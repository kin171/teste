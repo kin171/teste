{
 "cells": [
  {
   "cell_type": "code",
   "execution_count": 1,
   "metadata": {},
   "outputs": [
    {
     "name": "stdout",
     "output_type": "stream",
     "text": [
      "Vc tem  45 anos\n",
      "eu sou um viadao\n"
     ]
    }
   ],
   "source": [
    "t1=input('Que ano vç nasceu?')\n",
    "from datetime import date\n",
    "t2=date.today().year\n",
    "calc=int(t2) - int(t1)\n",
    "print('Vc tem ',calc, 'anos')\n",
    "print ('e tem')"
   ]
  }
 ],
 "metadata": {
  "kernelspec": {
   "display_name": "Python 3",
   "language": "python",
   "name": "python3"
  },
  "language_info": {
   "codemirror_mode": {
    "name": "ipython",
    "version": 3
   },
   "file_extension": ".py",
   "mimetype": "text/x-python",
   "name": "python",
   "nbconvert_exporter": "python",
   "pygments_lexer": "ipython3",
   "version": "3.12.4"
  }
 },
 "nbformat": 4,
 "nbformat_minor": 2
}
